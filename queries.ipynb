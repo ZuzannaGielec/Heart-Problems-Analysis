{
  "cells": [
    {
      "cell_type": "markdown",
      "metadata": {},
      "source": [
        "# Importing Libraries"
      ]
    },
    {
      "cell_type": "code",
      "execution_count": 1,
      "metadata": {},
      "outputs": [],
      "source": [
        "from pyspark.sql import SparkSession\n",
        "from pyspark.sql.functions import col, when, avg\n",
        "from pyspark.ml.feature import VectorAssembler, StringIndexer, OneHotEncoder\n",
        "from pyspark.ml.classification import LogisticRegression\n",
        "from pyspark.ml.evaluation import BinaryClassificationEvaluator\n",
        "import matplotlib.pyplot as plt"
      ]
    },
    {
      "cell_type": "markdown",
      "metadata": {},
      "source": [
        "# Reading data"
      ]
    },
    {
      "cell_type": "code",
      "execution_count": 12,
      "metadata": {
        "colab": {
          "base_uri": "https://localhost:8080/"
        },
        "id": "9KCR9_XZx412",
        "outputId": "e5fddb2c-f9d5-43db-e9f3-8c8b14bcacc9"
      },
      "outputs": [
        {
          "name": "stdout",
          "output_type": "stream",
          "text": [
            "+-------+------+-------------+------------------+----------------+--------------------+------------------+----------+--------------------+--------------+---------+---------+---------+-------------+-------+---------------------+----------------+------------+-----------+-------------------+-----------------------+-----------------------+-----------------+-------------------------+-----------------+-------------+--------------------+---------+---------------------+---------------+--------------+-----------------+-----+---------------+----------+------------+-------------+--------------------+----------------+--------+\n",
            "|  State|   Sex|GeneralHealth|PhysicalHealthDays|MentalHealthDays|     LastCheckupTime|PhysicalActivities|SleepHours|        RemovedTeeth|HadHeartAttack|HadAngina|HadStroke|HadAsthma|HadSkinCancer|HadCOPD|HadDepressiveDisorder|HadKidneyDisease|HadArthritis|HadDiabetes|DeafOrHardOfHearing|BlindOrVisionDifficulty|DifficultyConcentrating|DifficultyWalking|DifficultyDressingBathing|DifficultyErrands| SmokerStatus|     ECigaretteUsage|ChestScan|RaceEthnicityCategory|    AgeCategory|HeightInMeters|WeightInKilograms|  BMI|AlcoholDrinkers|HIVTesting|FluVaxLast12|PneumoVaxEver|   TetanusLast10Tdap|HighRiskLastYear|CovidPos|\n",
            "+-------+------+-------------+------------------+----------------+--------------------+------------------+----------+--------------------+--------------+---------+---------+---------+-------------+-------+---------------------+----------------+------------+-----------+-------------------+-----------------------+-----------------------+-----------------+-------------------------+-----------------+-------------+--------------------+---------+---------------------+---------------+--------------+-----------------+-----+---------------+----------+------------+-------------+--------------------+----------------+--------+\n",
            "|Alabama|Female|    Very good|               4.0|             0.0|Within past year ...|               Yes|       9.0|        None of them|            No|       No|       No|       No|           No|     No|                   No|              No|         Yes|         No|                 No|                     No|                     No|               No|                       No|               No|Former smoker|Never used e-ciga...|       No| White only, Non-H...|   Age 65 to 69|           1.6|            71.67|27.99|             No|        No|         Yes|          Yes|  Yes, received Tdap|              No|      No|\n",
            "|Alabama|  Male|    Very good|               0.0|             0.0|Within past year ...|               Yes|       6.0|        None of them|            No|       No|       No|       No|           No|     No|                   No|              No|         Yes|        Yes|                 No|                     No|                     No|               No|                       No|               No|Former smoker|Never used e-ciga...|       No| White only, Non-H...|   Age 70 to 74|          1.78|            95.25|30.13|             No|        No|         Yes|          Yes|Yes, received tet...|              No|      No|\n",
            "|Alabama|  Male|    Very good|               0.0|             0.0|Within past year ...|                No|       8.0|6 or more, but no...|            No|       No|       No|       No|           No|     No|                   No|              No|         Yes|         No|                 No|                    Yes|                     No|              Yes|                       No|               No|Former smoker|Never used e-ciga...|      Yes| White only, Non-H...|   Age 75 to 79|          1.85|           108.86|31.66|            Yes|        No|          No|          Yes|No, did not recei...|              No|     Yes|\n",
            "|Alabama|Female|         Fair|               5.0|             0.0|Within past year ...|               Yes|       9.0|        None of them|            No|       No|       No|       No|          Yes|     No|                  Yes|              No|         Yes|         No|                 No|                     No|                     No|              Yes|                       No|               No| Never smoked|Never used e-ciga...|       No| White only, Non-H...|Age 80 or older|           1.7|            90.72|31.32|             No|        No|         Yes|          Yes|No, did not recei...|              No|     Yes|\n",
            "|Alabama|Female|         Good|               3.0|            15.0|Within past year ...|               Yes|       5.0|              1 to 5|            No|       No|       No|       No|           No|     No|                   No|              No|         Yes|         No|                 No|                     No|                     No|               No|                       No|               No| Never smoked|Never used e-ciga...|       No| White only, Non-H...|Age 80 or older|          1.55|            79.38|33.07|             No|        No|         Yes|          Yes|No, did not recei...|              No|      No|\n",
            "+-------+------+-------------+------------------+----------------+--------------------+------------------+----------+--------------------+--------------+---------+---------+---------+-------------+-------+---------------------+----------------+------------+-----------+-------------------+-----------------------+-----------------------+-----------------+-------------------------+-----------------+-------------+--------------------+---------+---------------------+---------------+--------------+-----------------+-----+---------------+----------+------------+-------------+--------------------+----------------+--------+\n",
            "only showing top 5 rows\n",
            "\n"
          ]
        }
      ],
      "source": [
        "# Initialize Spark session\n",
        "spark = SparkSession.builder \\\n",
        "    .appName(\"Heart Disease Analysis\") \\\n",
        "    .config(\"spark.executor.memory\", \"2g\") \\\n",
        "    .config(\"spark.driver.memory\", \"2g\") \\\n",
        "    .getOrCreate()\n",
        "\n",
        "# Loading the dataset\n",
        "df = spark.read.csv(\"heart_2022_no_nans.csv\", header=True, inferSchema=True)\n",
        "\n",
        "# Showing the first few rows and columns of the dataframe to understand the structure\n",
        "df.show(5)"
      ]
    },
    {
      "cell_type": "markdown",
      "metadata": {},
      "source": [
        "# Analytical queries"
      ]
    },
    {
      "cell_type": "markdown",
      "metadata": {},
      "source": [
        "Query 1: Average age of patients who have heart disease versus patients who do not have heart disease\n",
        "\n",
        "Query 2: Percentage of Smoker with Heart Desease\n",
        "\n",
        "Query 3: Percentage of alcohol consumers who have heart disease\n",
        "\n",
        "Query 4: BMI Difference of Patients with and without Heart Disease\n",
        "\n",
        "Query 5: Average Sleeping Time Difference of Patients with and without Heart Disease\n",
        "\n",
        "Query 6: Percentage of Patients with Heart Disease Who Partake in Physical Activity"
      ]
    },
    {
      "cell_type": "code",
      "execution_count": 13,
      "metadata": {},
      "outputs": [
        {
          "name": "stdout",
          "output_type": "stream",
          "text": [
            "Average age of patients with heart disease: 67.99962783773725\n",
            "Average age of patients without heart disease: 54.81721678339718\n",
            "\n",
            "Percentage of smokers who have heart disease: 7.91%\n",
            "\n",
            "Percentage of alcohol consumers who have heart disease: 39.64%\n",
            "\n",
            "Average BMI for patients with heart disease: 29.492435429847426\n",
            "Average BMI for patients without heart disease: 28.620521482284047\n",
            "\n",
            "Average sleeping time for patients with heart disease: 7.043096390026052\n",
            "Average sleeping time for patients without heart disease: 7.020074208790689\n",
            "\n",
            "Percentage of patients with heart disease who partake in physical activity: 63.37%\n",
            "\n"
          ]
        }
      ],
      "source": [
        "# Function to map AgeCategory to Numeric Values\n",
        "def map_age_category(df):\n",
        "    df = df.withColumn('AgeNumeric', \n",
        "        when(col('AgeCategory') == 'Age 18 to 24', 21)\n",
        "        .when(col('AgeCategory') == 'Age 25 to 29', 27)\n",
        "        .when(col('AgeCategory') == 'Age 30 to 34', 32)\n",
        "        .when(col('AgeCategory') == 'Age 35 to 39', 37)\n",
        "        .when(col('AgeCategory') == 'Age 40 to 44', 42)\n",
        "        .when(col('AgeCategory') == 'Age 45 to 49', 47)\n",
        "        .when(col('AgeCategory') == 'Age 50 to 54', 52)\n",
        "        .when(col('AgeCategory') == 'Age 55 to 59', 57)\n",
        "        .when(col('AgeCategory') == 'Age 60 to 64', 62)\n",
        "        .when(col('AgeCategory') == 'Age 65 to 69', 67)\n",
        "        .when(col('AgeCategory') == 'Age 70 to 74', 72)\n",
        "        .when(col('AgeCategory') == 'Age 75 to 79', 77)\n",
        "        .when(col('AgeCategory') == 'Age 80 or older', 82)\n",
        "        .otherwise(None))\n",
        "    return df\n",
        "\n",
        "# Apply age mapping\n",
        "df = map_age_category(df)\n",
        "\n",
        "# Analytical Queries\n",
        "def analytical_queries(df):\n",
        "    avg_age_with_hd = df.filter(df['HadHeartAttack'] == 'Yes').select('AgeNumeric').groupBy().avg().collect()[0][0]\n",
        "    avg_age_without_hd = df.filter(df['HadHeartAttack'] == 'No').select('AgeNumeric').groupBy().avg().collect()[0][0]\n",
        "    print(f\"Average age of patients with heart disease: {avg_age_with_hd}\")\n",
        "    print(f\"Average age of patients without heart disease: {avg_age_without_hd}\\n\")\n",
        "    \n",
        "    total_smokers = df.filter(col('SmokerStatus').startswith('Current smoker')).count()\n",
        "    smokers_with_hd = df.filter((df['HadHeartAttack'] == 'Yes') & (col('SmokerStatus').startswith('Current smoker'))).count()\n",
        "    percentage_smokers_hd = (smokers_with_hd / total_smokers) * 100\n",
        "    print(f\"Percentage of smokers who have heart disease: {percentage_smokers_hd:.2f}%\\n\")\n",
        "    \n",
        "    total_hd_patients = df.filter(df['HadHeartAttack'] == 'Yes').count()\n",
        "    alcohol_consumers_hd = df.filter((df['HadHeartAttack'] == 'Yes') & (df['AlcoholDrinkers'] == 'Yes')).count()\n",
        "    percentage_alcohol_hd = (alcohol_consumers_hd / total_hd_patients) * 100\n",
        "    print(f\"Percentage of alcohol consumers who have heart disease: {percentage_alcohol_hd:.2f}%\\n\")\n",
        "    \n",
        "    avg_bmi_heart_disease = df.filter(df['HadHeartAttack'] == 'Yes').agg(avg(\"BMI\")).collect()[0][0]\n",
        "    avg_bmi_no_heart_disease = df.filter(df['HadHeartAttack'] == 'No').agg(avg(\"BMI\")).collect()[0][0]\n",
        "    print(f\"Average BMI for patients with heart disease: {avg_bmi_heart_disease}\")\n",
        "    print(f\"Average BMI for patients without heart disease: {avg_bmi_no_heart_disease}\\n\")\n",
        "    \n",
        "    avg_sleep_heart_disease = df.filter(df['HadHeartAttack'] == 'Yes').agg(avg(\"SleepHours\")).collect()[0][0]\n",
        "    avg_sleep_no_heart_disease = df.filter(df['HadHeartAttack'] == 'No').agg(avg(\"SleepHours\")).collect()[0][0]\n",
        "    print(f\"Average sleeping time for patients with heart disease: {avg_sleep_heart_disease}\")\n",
        "    print(f\"Average sleeping time for patients without heart disease: {avg_sleep_no_heart_disease}\\n\")\n",
        "    \n",
        "    active_heart_disease = df.filter((df['HadHeartAttack'] == 'Yes') & (df['PhysicalActivities'] == 'Yes')).count()\n",
        "    percentage_active_heart_disease = (active_heart_disease / total_hd_patients) * 100\n",
        "    print(f\"Percentage of patients with heart disease who partake in physical activity: {percentage_active_heart_disease:.2f}%\\n\")\n",
        "    \n",
        "    # Return the calculated values for use in the ML model function\n",
        "    return avg_age_with_hd, avg_age_without_hd, percentage_smokers_hd, percentage_alcohol_hd, avg_bmi_heart_disease, avg_bmi_no_heart_disease, avg_sleep_heart_disease, avg_sleep_no_heart_disease, percentage_active_heart_disease\n",
        "\n",
        "# Perform analytical queries\n",
        "avg_age_with_hd, avg_age_without_hd, percentage_smokers_hd, percentage_alcohol_hd, avg_bmi_heart_disease, avg_bmi_no_heart_disease, avg_sleep_heart_disease, avg_sleep_no_heart_disease, percentage_active_heart_disease = analytical_queries(df)\n"
      ]
    },
    {
      "cell_type": "markdown",
      "metadata": {},
      "source": [
        "# Machine learning model"
      ]
    },
    {
      "cell_type": "code",
      "execution_count": null,
      "metadata": {},
      "outputs": [],
      "source": [
        "# Convert 'HadHeartAttack' to numerical\n",
        "df = df.withColumn('HadHeartAttackNumeric', when(col('HadHeartAttack') == 'Yes', 1).otherwise(0))\n",
        "\n",
        "# Identify categorical columns\n",
        "categorical_cols = [col for col, dtype in df.dtypes if dtype == 'string' and col != 'HadHeartAttack']\n",
        "\n",
        "# Index and encode categorical columns\n",
        "indexers = [StringIndexer(inputCol=col, outputCol=col + \"_index\") for col in categorical_cols]\n",
        "encoders = [OneHotEncoder(inputCol=col + \"_index\", outputCol=col + \"_vec\") for col in categorical_cols]\n",
        "\n",
        "# Apply indexers and encoders\n",
        "for indexer in indexers:\n",
        "    df = indexer.fit(df).transform(df)\n",
        "for encoder in encoders:\n",
        "    df = encoder.fit(df).transform(df)\n",
        "\n",
        "# List of all columns excluding the target and original categorical columns\n",
        "feature_cols = [col for col in df.columns if col not in categorical_cols + ['HadHeartAttack', 'HadHeartAttackNumeric'] and not col.endswith(\"_index\")]\n",
        "\n",
        "# Assemble all features into a feature vector\n",
        "assembler = VectorAssembler(inputCols=feature_cols, outputCol=\"features\")\n",
        "df = assembler.transform(df)\n",
        "\n",
        "# Select final dataset with features and label\n",
        "final_df = df.select(\"features\", \"HadHeartAttackNumeric\")\n",
        "\n",
        "# Split the data into training and test sets\n",
        "train_df, test_df = final_df.randomSplit([0.7, 0.3], seed=42)\n",
        "\n",
        "# Initialize and train the logistic regression model\n",
        "lr = LogisticRegression(labelCol=\"HadHeartAttackNumeric\")\n",
        "lr_model = lr.fit(train_df)\n",
        "\n",
        "# Make predictions on the test set\n",
        "predictions = lr_model.transform(test_df)\n",
        "\n",
        "# Evaluate the model\n",
        "evaluator = BinaryClassificationEvaluator(labelCol=\"HadHeartAttackNumeric\", rawPredictionCol=\"rawPrediction\", metricName=\"areaUnderROC\")\n",
        "roc_auc = evaluator.evaluate(predictions)\n",
        "\n",
        "# Calculate accuracy, sensitivity, and specificity\n",
        "predictions = predictions.withColumn(\"prediction\", when(col(\"prediction\") >= 0.5, 1).otherwise(0))\n",
        "tp = predictions.filter((predictions['prediction'] == 1) & (predictions['HadHeartAttackNumeric'] == 1)).count()\n",
        "tn = predictions.filter((predictions['prediction'] == 0) & (predictions['HadHeartAttackNumeric'] == 0)).count()\n",
        "fp = predictions.filter((predictions['prediction'] == 1) & (predictions['HadHeartAttackNumeric'] == 0)).count()\n",
        "fn = predictions.filter((predictions['prediction'] == 0) & (predictions['HadHeartAttackNumeric'] == 1)).count()\n",
        "\n",
        "accuracy = (tp + tn) / (tp + tn + fp + fn)\n",
        "sensitivity = tp / (tp + fn) if (tp + fn) != 0 else 0\n",
        "specificity = tn / (tn + fp) if (tn + fp) != 0 else 0\n",
        "\n",
        "# Prepare results DataFrame\n",
        "results = spark.createDataFrame([\n",
        "    (\"AvgAgeWithHD\", avg_age_with_hd),\n",
        "    (\"AvgAgeWithoutHD\", avg_age_without_hd),\n",
        "    (\"PercentageSmokersHD\", percentage_smokers_hd),\n",
        "    (\"PercentageAlcoholHD\", percentage_alcohol_hd),\n",
        "    (\"AvgBMIWithHD\", avg_bmi_heart_disease),\n",
        "    (\"AvgBMINoHD\", avg_bmi_no_heart_disease),\n",
        "    (\"AvgSleepWithHD\", avg_sleep_heart_disease),\n",
        "    (\"AvgSleepNoHD\", avg_sleep_no_heart_disease),\n",
        "    (\"PercentageActiveHD\", percentage_active_heart_disease),\n",
        "    (\"ROC_AUC\", roc_auc),\n",
        "    (\"Accuracy\", accuracy),\n",
        "    (\"Sensitivity\", sensitivity),\n",
        "    (\"Specificity\", specificity)\n",
        "], [\"Metric\", \"Value\"])\n",
        "\n",
        "# Extract coefficients\n",
        "coefficients = lr_model.coefficients\n",
        "intercept = lr_model.intercept\n",
        "\n",
        "# Combine coefficients with feature names\n",
        "coef_df = spark.createDataFrame([(feature, float(coef)) for feature, coef in zip(feature_cols, coefficients)], [\"Feature\", \"Coefficient\"])\n",
        "\n",
        "# Convert Spark DataFrame to Pandas DataFrame\n",
        "coef_pd_df = coef_df.toPandas()\n",
        "\n",
        "# Calculate the absolute values of the coefficients\n",
        "coef_pd_df['abs_coeff'] = coef_pd_df['Coefficient'].abs()\n",
        "\n",
        "# Sort by absolute coefficient values to get the top 10 features\n",
        "top_10_features = coef_pd_df.sort_values(by='abs_coeff', ascending=False).head(10)\n",
        "\n",
        "# Plot the top 10 features\n",
        "plt.figure(figsize=(10, 6))\n",
        "plt.barh(top_10_features['Feature'], top_10_features['Coefficient'], color='skyblue')\n",
        "plt.xlabel('Coefficient')\n",
        "plt.title('Top 10 Most Important Variables')\n",
        "plt.gca().invert_yaxis()  # Invert y-axis to have the largest coefficient on top\n",
        "plt.show()\n",
        "\n",
        "results.show()\n",
        "coef_df.show()"
      ]
    }
  ],
  "metadata": {
    "colab": {
      "provenance": []
    },
    "kernelspec": {
      "display_name": "Python 3",
      "name": "python3"
    },
    "language_info": {
      "codemirror_mode": {
        "name": "ipython",
        "version": 3
      },
      "file_extension": ".py",
      "mimetype": "text/x-python",
      "name": "python",
      "nbconvert_exporter": "python",
      "pygments_lexer": "ipython3",
      "version": "3.11.5"
    }
  },
  "nbformat": 4,
  "nbformat_minor": 0
}
