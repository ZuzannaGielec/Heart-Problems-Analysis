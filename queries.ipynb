{
  "cells": [
    {
      "cell_type": "markdown",
      "metadata": {},
      "source": [
        "# Reading data"
      ]
    },
    {
      "cell_type": "code",
      "execution_count": 1,
      "metadata": {
        "colab": {
          "base_uri": "https://localhost:8080/"
        },
        "id": "9KCR9_XZx412",
        "outputId": "e5fddb2c-f9d5-43db-e9f3-8c8b14bcacc9"
      },
      "outputs": [
        {
          "name": "stdout",
          "output_type": "stream",
          "text": [
            "Collecting pyspark\n",
            "  Downloading pyspark-3.5.1.tar.gz (317.0 MB)\n",
            "\u001b[2K     \u001b[90m━━━━━━━━━━━━━━━━━━━━━━━━━━━━━━━━━━━━━\u001b[0m \u001b[32m317.0/317.0 MB\u001b[0m \u001b[31m446.0 kB/s\u001b[0m eta \u001b[36m0:00:00\u001b[0m00:01\u001b[0m00:07\u001b[0m\n",
            "\u001b[?25h  Preparing metadata (setup.py) ... \u001b[?25ldone\n",
            "\u001b[?25hCollecting py4j==0.10.9.7\n",
            "  Downloading py4j-0.10.9.7-py2.py3-none-any.whl (200 kB)\n",
            "\u001b[2K     \u001b[90m━━━━━━━━━━━━━━━━━━━━━━━━━━━━━━━━━━━━━\u001b[0m \u001b[32m200.5/200.5 kB\u001b[0m \u001b[31m844.6 kB/s\u001b[0m eta \u001b[36m0:00:00\u001b[0ma \u001b[36m0:00:01\u001b[0m\n",
            "\u001b[?25hInstalling collected packages: py4j, pyspark\n",
            "\u001b[33m  DEPRECATION: pyspark is being installed using the legacy 'setup.py install' method, because it does not have a 'pyproject.toml' and the 'wheel' package is not installed. pip 23.1 will enforce this behaviour change. A possible replacement is to enable the '--use-pep517' option. Discussion can be found at https://github.com/pypa/pip/issues/8559\u001b[0m\u001b[33m\n",
            "\u001b[0m  Running setup.py install for pyspark ... \u001b[?25ldone\n",
            "\u001b[?25hSuccessfully installed py4j-0.10.9.7 pyspark-3.5.1\n"
          ]
        },
        {
          "name": "stderr",
          "output_type": "stream",
          "text": [
            "24/05/27 00:05:45 WARN Utils: Your hostname, osboxes resolves to a loopback address: 127.0.1.1; using 10.0.2.15 instead (on interface enp0s3)\n",
            "24/05/27 00:05:45 WARN Utils: Set SPARK_LOCAL_IP if you need to bind to another address\n",
            "Setting default log level to \"WARN\".\n",
            "To adjust logging level use sc.setLogLevel(newLevel). For SparkR, use setLogLevel(newLevel).\n",
            "24/05/27 00:05:51 WARN NativeCodeLoader: Unable to load native-hadoop library for your platform... using builtin-java classes where applicable\n",
            "24/05/27 00:06:39 WARN SparkStringUtils: Truncated the string representation of a plan since it was too large. This behavior can be adjusted by setting 'spark.sql.debug.maxToStringFields'.\n"
          ]
        },
        {
          "name": "stdout",
          "output_type": "stream",
          "text": [
            "+-------+------+-------------+------------------+----------------+--------------------+------------------+----------+--------------------+--------------+---------+---------+---------+-------------+-------+---------------------+----------------+------------+-----------+-------------------+-----------------------+-----------------------+-----------------+-------------------------+-----------------+-------------+--------------------+---------+---------------------+---------------+--------------+-----------------+-----+---------------+----------+------------+-------------+--------------------+----------------+--------+\n",
            "|  State|   Sex|GeneralHealth|PhysicalHealthDays|MentalHealthDays|     LastCheckupTime|PhysicalActivities|SleepHours|        RemovedTeeth|HadHeartAttack|HadAngina|HadStroke|HadAsthma|HadSkinCancer|HadCOPD|HadDepressiveDisorder|HadKidneyDisease|HadArthritis|HadDiabetes|DeafOrHardOfHearing|BlindOrVisionDifficulty|DifficultyConcentrating|DifficultyWalking|DifficultyDressingBathing|DifficultyErrands| SmokerStatus|     ECigaretteUsage|ChestScan|RaceEthnicityCategory|    AgeCategory|HeightInMeters|WeightInKilograms|  BMI|AlcoholDrinkers|HIVTesting|FluVaxLast12|PneumoVaxEver|   TetanusLast10Tdap|HighRiskLastYear|CovidPos|\n",
            "+-------+------+-------------+------------------+----------------+--------------------+------------------+----------+--------------------+--------------+---------+---------+---------+-------------+-------+---------------------+----------------+------------+-----------+-------------------+-----------------------+-----------------------+-----------------+-------------------------+-----------------+-------------+--------------------+---------+---------------------+---------------+--------------+-----------------+-----+---------------+----------+------------+-------------+--------------------+----------------+--------+\n",
            "|Alabama|Female|    Very good|               4.0|             0.0|Within past year ...|               Yes|       9.0|        None of them|            No|       No|       No|       No|           No|     No|                   No|              No|         Yes|         No|                 No|                     No|                     No|               No|                       No|               No|Former smoker|Never used e-ciga...|       No| White only, Non-H...|   Age 65 to 69|           1.6|            71.67|27.99|             No|        No|         Yes|          Yes|  Yes, received Tdap|              No|      No|\n",
            "|Alabama|  Male|    Very good|               0.0|             0.0|Within past year ...|               Yes|       6.0|        None of them|            No|       No|       No|       No|           No|     No|                   No|              No|         Yes|        Yes|                 No|                     No|                     No|               No|                       No|               No|Former smoker|Never used e-ciga...|       No| White only, Non-H...|   Age 70 to 74|          1.78|            95.25|30.13|             No|        No|         Yes|          Yes|Yes, received tet...|              No|      No|\n",
            "|Alabama|  Male|    Very good|               0.0|             0.0|Within past year ...|                No|       8.0|6 or more, but no...|            No|       No|       No|       No|           No|     No|                   No|              No|         Yes|         No|                 No|                    Yes|                     No|              Yes|                       No|               No|Former smoker|Never used e-ciga...|      Yes| White only, Non-H...|   Age 75 to 79|          1.85|           108.86|31.66|            Yes|        No|          No|          Yes|No, did not recei...|              No|     Yes|\n",
            "|Alabama|Female|         Fair|               5.0|             0.0|Within past year ...|               Yes|       9.0|        None of them|            No|       No|       No|       No|          Yes|     No|                  Yes|              No|         Yes|         No|                 No|                     No|                     No|              Yes|                       No|               No| Never smoked|Never used e-ciga...|       No| White only, Non-H...|Age 80 or older|           1.7|            90.72|31.32|             No|        No|         Yes|          Yes|No, did not recei...|              No|     Yes|\n",
            "|Alabama|Female|         Good|               3.0|            15.0|Within past year ...|               Yes|       5.0|              1 to 5|            No|       No|       No|       No|           No|     No|                   No|              No|         Yes|         No|                 No|                     No|                     No|               No|                       No|               No| Never smoked|Never used e-ciga...|       No| White only, Non-H...|Age 80 or older|          1.55|            79.38|33.07|             No|        No|         Yes|          Yes|No, did not recei...|              No|      No|\n",
            "+-------+------+-------------+------------------+----------------+--------------------+------------------+----------+--------------------+--------------+---------+---------+---------+-------------+-------+---------------------+----------------+------------+-----------+-------------------+-----------------------+-----------------------+-----------------+-------------------------+-----------------+-------------+--------------------+---------+---------------------+---------------+--------------+-----------------+-----+---------------+----------+------------+-------------+--------------------+----------------+--------+\n",
            "only showing top 5 rows\n",
            "\n"
          ]
        }
      ],
      "source": [
        "!pip install pyspark\n",
        "from pyspark.sql import SparkSession\n",
        "\n",
        "# Initialize Spark session\n",
        "spark = SparkSession.builder \\\n",
        "    .appName(\"Heart Disease Analysis\") \\\n",
        "    .getOrCreate()\n",
        "\n",
        "# Load the dataset\n",
        "df = spark.read.csv(\"heart_2022_no_nans.csv\", header=True, inferSchema=True)\n",
        "\n",
        "# Show the first few rows and columns of the dataframe to understand the structure\n",
        "df.show(5)"
      ]
    },
    {
      "cell_type": "markdown",
      "metadata": {},
      "source": [
        "# Analytical queries"
      ]
    },
    {
      "cell_type": "code",
      "execution_count": 18,
      "metadata": {},
      "outputs": [
        {
          "name": "stdout",
          "output_type": "stream",
          "text": [
            "+---------------+----------+\n",
            "|    AgeCategory|AgeNumeric|\n",
            "+---------------+----------+\n",
            "|   Age 65 to 69|        67|\n",
            "|   Age 70 to 74|        72|\n",
            "|   Age 75 to 79|        77|\n",
            "|Age 80 or older|        82|\n",
            "|Age 80 or older|        82|\n",
            "+---------------+----------+\n",
            "only showing top 5 rows\n",
            "\n"
          ]
        },
        {
          "name": "stderr",
          "output_type": "stream",
          "text": [
            "                                                                                \r"
          ]
        },
        {
          "name": "stdout",
          "output_type": "stream",
          "text": [
            "Average age of patients with heart disease: 67.99962783773725\n",
            "Average age of patients without heart disease: 54.81721678339718\n"
          ]
        }
      ],
      "source": [
        "from pyspark.sql.functions import udf\n",
        "from pyspark.sql.types import IntegerType\n",
        "from pyspark.sql.functions import col, when\n",
        "\n",
        "# Query 1: Average age of patients who have heart disease versus patients who do not have heart disease\n",
        "\n",
        "# Mapping AgeCategory to Numeric Values\n",
        "df = df.withColumn('AgeNumeric', \n",
        "                   when(col('AgeCategory') == 'Age 18 to 24', 21)\n",
        "                   .when(col('AgeCategory') == 'Age 25 to 29', 27)\n",
        "                   .when(col('AgeCategory') == 'Age 30 to 34', 32)\n",
        "                   .when(col('AgeCategory') == 'Age 35 to 39', 37)\n",
        "                   .when(col('AgeCategory') == 'Age 40 to 44', 42)\n",
        "                   .when(col('AgeCategory') == 'Age 45 to 49', 47)\n",
        "                   .when(col('AgeCategory') == 'Age 50 to 54', 52)\n",
        "                   .when(col('AgeCategory') == 'Age 55 to 59', 57)\n",
        "                   .when(col('AgeCategory') == 'Age 60 to 64', 62)\n",
        "                   .when(col('AgeCategory') == 'Age 65 to 69', 67)\n",
        "                   .when(col('AgeCategory') == 'Age 70 to 74', 72)\n",
        "                   .when(col('AgeCategory') == 'Age 75 to 79', 77)\n",
        "                   .when(col('AgeCategory') == 'Age 80 or older', 82)\n",
        "                   .otherwise(None))\n",
        "\n",
        "df.select('AgeCategory', 'AgeNumeric').show(5)\n",
        "\n",
        "avg_age_with_hd = df.filter(df['HadHeartAttack'] == 'Yes').select('AgeNumeric').groupBy().avg().collect()[0][0]\n",
        "avg_age_without_hd = df.filter(df['HadHeartAttack'] == 'No').select('AgeNumeric').groupBy().avg().collect()[0][0]\n",
        "\n",
        "print(f\"Average age of patients with heart disease: {avg_age_with_hd}\")\n",
        "print(f\"Average age of patients without heart disease: {avg_age_without_hd}\")\n"
      ]
    },
    {
      "cell_type": "code",
      "execution_count": 3,
      "metadata": {},
      "outputs": [
        {
          "name": "stderr",
          "output_type": "stream",
          "text": [
            "[Stage 13:=========>                                                (1 + 5) / 6]\r"
          ]
        },
        {
          "name": "stdout",
          "output_type": "stream",
          "text": [
            "Percentage of smokers who have heart disease: 7.91%\n"
          ]
        },
        {
          "name": "stderr",
          "output_type": "stream",
          "text": [
            "                                                                                \r"
          ]
        }
      ],
      "source": [
        "# Query 2: Percentage of Smoker with Heart Desease\n",
        "\n",
        "# Calculate the total number of patients who smoke\n",
        "total_hd_patients = df.filter(col('SmokerStatus').startswith('Current smoker')).count()\n",
        "\n",
        "# Calculate the number of smokers with heart disease\n",
        "smokers_with_hd = df.filter((df['HadHeartAttack'] == 'Yes') & (col('SmokerStatus').startswith('Current smoker'))).count()\n",
        "\n",
        "# Calculate the percentage\n",
        "percentage_smokers_hd = (smokers_with_hd / total_hd_patients) * 100\n",
        "\n",
        "print(f\"Percentage of smokers who have heart disease: {percentage_smokers_hd:.2f}%\")"
      ]
    },
    {
      "cell_type": "code",
      "execution_count": 4,
      "metadata": {},
      "outputs": [
        {
          "name": "stdout",
          "output_type": "stream",
          "text": [
            "Percentage of alcohol consumers who have heart disease: 39.64%\n"
          ]
        }
      ],
      "source": [
        "# Query 3: Percentage of alcohol consumers who have heart disease\n",
        "\n",
        "\n",
        "# Calculate the total number of patients with heart disease\n",
        "total_hd_patients = df.filter(df['HadHeartAttack'] == 'Yes').count()\n",
        "\n",
        "# Calculate the number of alcohol consumers with heart disease\n",
        "alcohol_consumers_hd = df.filter((df['HadHeartAttack'] == 'Yes') & (df['AlcoholDrinkers'] == 'Yes')).count()\n",
        "\n",
        "# Calculate the percentage\n",
        "percentage_alcohol_hd = (alcohol_consumers_hd / total_hd_patients) * 100\n",
        "\n",
        "print(f\"Percentage of alcohol consumers who have heart disease: {percentage_alcohol_hd:.2f}%\")"
      ]
    },
    {
      "cell_type": "code",
      "execution_count": 5,
      "metadata": {
        "colab": {
          "base_uri": "https://localhost:8080/"
        },
        "id": "bHwADOKC0gvQ",
        "outputId": "40f8a6eb-8be1-4374-c491-45d065ac317b"
      },
      "outputs": [
        {
          "name": "stderr",
          "output_type": "stream",
          "text": [
            "                                                                                \r"
          ]
        },
        {
          "name": "stdout",
          "output_type": "stream",
          "text": [
            "Average BMI for patients with heart disease: 29.492435429847426\n",
            "Average BMI for patients without heart disease: 28.620521482284047\n"
          ]
        }
      ],
      "source": [
        "#Query 4: BMI Difference of Patients with and without Heart Disease\n",
        "\n",
        "from pyspark.sql import SparkSession\n",
        "from pyspark.sql.functions import avg\n",
        "\n",
        "# Initialize Spark session\n",
        "spark = SparkSession.builder \\\n",
        "    .appName(\"Heart Disease Analysis\") \\\n",
        "    .getOrCreate()\n",
        "\n",
        "# Load the dataset\n",
        "df = spark.read.csv(\"heart_2022_no_nans.csv\", header=True, inferSchema=True)\n",
        "\n",
        "# Calculate average BMI for patients with heart disease\n",
        "avg_bmi_heart_disease = df.filter(df['HadHeartAttack'] == 'Yes').agg(avg(\"BMI\")).collect()[0][0]\n",
        "\n",
        "# Calculate average BMI for patients without heart disease\n",
        "avg_bmi_no_heart_disease = df.filter(df['HadHeartAttack'] == 'No').agg(avg(\"BMI\")).collect()[0][0]\n",
        "\n",
        "print(f\"Average BMI for patients with heart disease: {avg_bmi_heart_disease}\")\n",
        "print(f\"Average BMI for patients without heart disease: {avg_bmi_no_heart_disease}\")\n"
      ]
    },
    {
      "cell_type": "code",
      "execution_count": 6,
      "metadata": {
        "colab": {
          "base_uri": "https://localhost:8080/"
        },
        "id": "S75DDwSU1jny",
        "outputId": "56211abd-9a63-4222-b4e1-e5a61b0b8d02"
      },
      "outputs": [
        {
          "name": "stdout",
          "output_type": "stream",
          "text": [
            "Average sleeping time for patients with heart disease: 7.043096390026052\n",
            "Average sleeping time for patients without heart disease: 7.020074208790689\n"
          ]
        }
      ],
      "source": [
        "#Query 5: Average Sleeping Time Difference of Patients with and without Heart Disease\n",
        "\n",
        "# Calculate average sleeping time for patients with heart disease\n",
        "avg_sleep_heart_disease = df.filter(df['HadHeartAttack'] == 'Yes').agg(avg(\"SleepHours\")).collect()[0][0]\n",
        "\n",
        "# Calculate average sleeping time for patients without heart disease\n",
        "avg_sleep_no_heart_disease = df.filter(df['HadHeartAttack'] == 'No').agg(avg(\"SleepHours\")).collect()[0][0]\n",
        "\n",
        "print(f\"Average sleeping time for patients with heart disease: {avg_sleep_heart_disease}\")\n",
        "print(f\"Average sleeping time for patients without heart disease: {avg_sleep_no_heart_disease}\")\n"
      ]
    },
    {
      "cell_type": "code",
      "execution_count": 7,
      "metadata": {
        "colab": {
          "base_uri": "https://localhost:8080/"
        },
        "id": "h-VR6rl71qTt",
        "outputId": "e25c576a-c889-4b84-d660-0810a422d41c"
      },
      "outputs": [
        {
          "name": "stdout",
          "output_type": "stream",
          "text": [
            "Percentage of patients with heart disease who partake in physical activity: 63.37%\n"
          ]
        }
      ],
      "source": [
        "#Query 6: Percentage of Patients with Heart Disease Who Partake in Physical Activity\n",
        "\n",
        "# Calculate total number of patients with heart disease\n",
        "total_heart_disease = df.filter(df['HadHeartAttack'] == 'Yes').count()\n",
        "\n",
        "# Calculate number of patients with heart disease who partake in physical activity\n",
        "active_heart_disease = df.filter((df['HadHeartAttack'] == 'Yes') & (df['PhysicalActivities'] == 'Yes')).count()\n",
        "\n",
        "# Calculate the percentage\n",
        "percentage_active_heart_disease = (active_heart_disease / total_heart_disease) * 100\n",
        "\n",
        "print(f\"Percentage of patients with heart disease who partake in physical activity: {percentage_active_heart_disease:.2f}%\")\n"
      ]
    },
    {
      "cell_type": "markdown",
      "metadata": {},
      "source": [
        "# Machine learning model"
      ]
    },
    {
      "cell_type": "code",
      "execution_count": 20,
      "metadata": {},
      "outputs": [
        {
          "name": "stdout",
          "output_type": "stream",
          "text": [
            "Requirement already satisfied: numpy in /home/osboxes/myenv/lib/python3.11/site-packages (1.26.4)\n",
            "Requirement already satisfied: matplotlib in /home/osboxes/myenv/lib/python3.11/site-packages (3.9.0)\n",
            "Requirement already satisfied: pandas in /home/osboxes/myenv/lib/python3.11/site-packages (2.2.2)\n",
            "Requirement already satisfied: contourpy>=1.0.1 in /home/osboxes/myenv/lib/python3.11/site-packages (from matplotlib) (1.2.1)\n",
            "Requirement already satisfied: cycler>=0.10 in /home/osboxes/myenv/lib/python3.11/site-packages (from matplotlib) (0.12.1)\n",
            "Requirement already satisfied: fonttools>=4.22.0 in /home/osboxes/myenv/lib/python3.11/site-packages (from matplotlib) (4.52.1)\n",
            "Requirement already satisfied: kiwisolver>=1.3.1 in /home/osboxes/myenv/lib/python3.11/site-packages (from matplotlib) (1.4.5)\n",
            "Requirement already satisfied: packaging>=20.0 in /home/osboxes/myenv/lib/python3.11/site-packages (from matplotlib) (24.0)\n",
            "Requirement already satisfied: pillow>=8 in /home/osboxes/myenv/lib/python3.11/site-packages (from matplotlib) (10.3.0)\n",
            "Requirement already satisfied: pyparsing>=2.3.1 in /home/osboxes/myenv/lib/python3.11/site-packages (from matplotlib) (3.1.2)\n",
            "Requirement already satisfied: python-dateutil>=2.7 in /home/osboxes/myenv/lib/python3.11/site-packages (from matplotlib) (2.9.0.post0)\n",
            "Requirement already satisfied: pytz>=2020.1 in /home/osboxes/myenv/lib/python3.11/site-packages (from pandas) (2024.1)\n",
            "Requirement already satisfied: tzdata>=2022.7 in /home/osboxes/myenv/lib/python3.11/site-packages (from pandas) (2024.1)\n",
            "Requirement already satisfied: six>=1.5 in /home/osboxes/myenv/lib/python3.11/site-packages (from python-dateutil>=2.7->matplotlib) (1.16.0)\n"
          ]
        },
        {
          "name": "stderr",
          "output_type": "stream",
          "text": [
            "                                                                                \r"
          ]
        },
        {
          "data": {
            "image/png": "[encoded data removed]",
            "text/plain": [
              "<Figure size 1000x600 with 1 Axes>"
            ]
          },
          "metadata": {},
          "output_type": "display_data"
        },
        {
          "name": "stdout",
          "output_type": "stream",
          "text": [
            "+-------------------+------------------+\n",
            "|             Metric|             Value|\n",
            "+-------------------+------------------+\n",
            "|       AvgAgeWithHD| 67.99962783773725|\n",
            "|    AvgAgeWithoutHD| 54.81721678339718|\n",
            "|PercentageSmokersHD| 7.910477854694537|\n",
            "|PercentageAlcoholHD|  39.6427242277633|\n",
            "|       AvgBMIWithHD|29.492435429847426|\n",
            "|         AvgBMINoHD|28.620521482284047|\n",
            "|     AvgSleepWithHD| 7.043096390026052|\n",
            "|       AvgSleepNoHD| 7.020074208790689|\n",
            "| PercentageActiveHD|63.371790100483814|\n",
            "|            ROC_AUC|0.8912801060851364|\n",
            "|           Accuracy| 0.949528744542821|\n",
            "|        Sensitivity|0.2606516290726817|\n",
            "|        Specificity|0.9890561859154119|\n",
            "+-------------------+------------------+\n",
            "\n",
            "+--------------------+--------------------+\n",
            "|             Feature|         Coefficient|\n",
            "+--------------------+--------------------+\n",
            "|  PhysicalHealthDays|-0.00197726287962...|\n",
            "|    MentalHealthDays|0.001092659136079...|\n",
            "|          SleepHours|-0.02368773788364031|\n",
            "|      HeightInMeters|-0.40994961672027835|\n",
            "|   WeightInKilograms|-0.00146914741496...|\n",
            "|                 BMI|0.002360852330130889|\n",
            "|           State_vec|-0.06061962885785...|\n",
            "|             Sex_vec|-0.04357634406062976|\n",
            "|   GeneralHealth_vec|-0.00490407298363...|\n",
            "| LastCheckupTime_vec|  0.0727877398301848|\n",
            "|PhysicalActivitie...| -0.1255616476874559|\n",
            "|    RemovedTeeth_vec|-0.00236316809196...|\n",
            "|       HadAngina_vec| 0.11073436747052488|\n",
            "|       HadStroke_vec| -0.0984925861139916|\n",
            "|       HadAsthma_vec|-0.08027171483993813|\n",
            "|   HadSkinCancer_vec|  0.2800864763706276|\n",
            "|         HadCOPD_vec|  -0.129858497615931|\n",
            "|HadDepressiveDiso...| -0.2287409647848199|\n",
            "|HadKidneyDisease_vec|-0.06737140570226563|\n",
            "|    HadArthritis_vec| 0.03070707584643972|\n",
            "+--------------------+--------------------+\n",
            "only showing top 20 rows\n",
            "\n"
          ]
        }
      ],
      "source": [
        "!pip install numpy matplotlib pandas\n",
        "from pyspark.sql.functions import when, col, avg\n",
        "from pyspark.ml.feature import VectorAssembler, StringIndexer, OneHotEncoder\n",
        "from pyspark.ml.classification import LogisticRegression\n",
        "from pyspark.ml.evaluation import BinaryClassificationEvaluator\n",
        "from pyspark.sql.types import DoubleType\n",
        "import matplotlib.pyplot as plt\n",
        "import pandas as pd\n",
        "\n",
        "df = spark.read.csv(\"heart_2022_no_nans.csv\", header=True, inferSchema=True)\n",
        "\n",
        "# Convert 'HadHeartAttack' to numerical\n",
        "df = df.withColumn('HadHeartAttackNumeric', when(col('HadHeartAttack') == 'Yes', 1).otherwise(0))\n",
        "\n",
        "# Identify categorical columns\n",
        "categorical_cols = [col for col, dtype in df.dtypes if dtype == 'string' and col != 'HadHeartAttack']\n",
        "\n",
        "# Index and encode categorical columns\n",
        "indexers = [StringIndexer(inputCol=col, outputCol=col + \"_index\") for col in categorical_cols]\n",
        "encoders = [OneHotEncoder(inputCol=col + \"_index\", outputCol=col + \"_vec\") for col in categorical_cols]\n",
        "\n",
        "# Apply indexers and encoders\n",
        "for indexer in indexers:\n",
        "    df = indexer.fit(df).transform(df)\n",
        "for encoder in encoders:\n",
        "    df = encoder.fit(df).transform(df)\n",
        "\n",
        "# List of all columns excluding the target and original categorical columns\n",
        "feature_cols = [col for col in df.columns if col not in categorical_cols + ['HadHeartAttack', 'HadHeartAttackNumeric'] and not col.endswith(\"_index\")]\n",
        "\n",
        "# Assemble all features into a feature vector\n",
        "assembler = VectorAssembler(inputCols=feature_cols, outputCol=\"features\")\n",
        "df = assembler.transform(df)\n",
        "\n",
        "# Select final dataset with features and label\n",
        "final_df = df.select(\"features\", \"HadHeartAttackNumeric\")\n",
        "\n",
        "# Split the data into training and test sets\n",
        "train_df, test_df = final_df.randomSplit([0.7, 0.3], seed=42)\n",
        "\n",
        "# Initialize and train the logistic regression model\n",
        "lr = LogisticRegression(labelCol=\"HadHeartAttackNumeric\")\n",
        "lr_model = lr.fit(train_df)\n",
        "\n",
        "# Make predictions on the test set\n",
        "predictions = lr_model.transform(test_df)\n",
        "\n",
        "# Evaluate the model\n",
        "evaluator = BinaryClassificationEvaluator(labelCol=\"HadHeartAttackNumeric\", rawPredictionCol=\"rawPrediction\", metricName=\"areaUnderROC\")\n",
        "roc_auc = evaluator.evaluate(predictions)\n",
        "\n",
        "# Calculate accuracy, sensitivity, and specificity\n",
        "predictions = predictions.withColumn(\"prediction\", when(col(\"prediction\") >= 0.5, 1).otherwise(0))\n",
        "tp = predictions.filter((predictions['prediction'] == 1) & (predictions['HadHeartAttackNumeric'] == 1)).count()\n",
        "tn = predictions.filter((predictions['prediction'] == 0) & (predictions['HadHeartAttackNumeric'] == 0)).count()\n",
        "fp = predictions.filter((predictions['prediction'] == 1) & (predictions['HadHeartAttackNumeric'] == 0)).count()\n",
        "fn = predictions.filter((predictions['prediction'] == 0) & (predictions['HadHeartAttackNumeric'] == 1)).count()\n",
        "\n",
        "accuracy = (tp + tn) / (tp + tn + fp + fn)\n",
        "sensitivity = tp / (tp + fn) if (tp + fn) != 0 else 0\n",
        "specificity = tn / (tn + fp) if (tn + fp) != 0 else 0\n",
        "\n",
        "# Prepare results DataFrame\n",
        "results = spark.createDataFrame([\n",
        "    (\"AvgAgeWithHD\", avg_age_with_hd),\n",
        "    (\"AvgAgeWithoutHD\", avg_age_without_hd),\n",
        "    (\"PercentageSmokersHD\", percentage_smokers_hd),\n",
        "    (\"PercentageAlcoholHD\", percentage_alcohol_hd),\n",
        "    (\"AvgBMIWithHD\", avg_bmi_heart_disease),\n",
        "    (\"AvgBMINoHD\", avg_bmi_no_heart_disease),\n",
        "    (\"AvgSleepWithHD\", avg_sleep_heart_disease),\n",
        "    (\"AvgSleepNoHD\", avg_sleep_no_heart_disease),\n",
        "    (\"PercentageActiveHD\", percentage_active_heart_disease),\n",
        "    (\"ROC_AUC\", roc_auc),\n",
        "    (\"Accuracy\", accuracy),\n",
        "    (\"Sensitivity\", sensitivity),\n",
        "    (\"Specificity\", specificity)\n",
        "], [\"Metric\", \"Value\"])\n",
        "\n",
        "# Extract coefficients\n",
        "coefficients = lr_model.coefficients\n",
        "intercept = lr_model.intercept\n",
        "\n",
        "# Combine coefficients with feature names\n",
        "coef_df = spark.createDataFrame([(feature, float(coef)) for feature, coef in zip(feature_cols, coefficients)], [\"Feature\", \"Coefficient\"])\n",
        "\n",
        "# Convert Spark DataFrame to Pandas DataFrame\n",
        "coef_pd_df = coef_df.toPandas()\n",
        "\n",
        "# Calculate the absolute values of the coefficients\n",
        "coef_pd_df['abs_coeff'] = coef_pd_df['Coefficient'].abs()\n",
        "\n",
        "# Sort by absolute coefficient values to get the top 10 features\n",
        "top_10_features = coef_pd_df.sort_values(by='abs_coeff', ascending=False).head(10)\n",
        "\n",
        "# Plot the top 10 features\n",
        "plt.figure(figsize=(10, 6))\n",
        "plt.barh(top_10_features['Feature'], top_10_features['Coefficient'], color='skyblue')\n",
        "plt.xlabel('Coefficient')\n",
        "plt.title('Top 10 Most Important Variables')\n",
        "plt.gca().invert_yaxis()  # Invert y-axis to have the largest coefficient on top\n",
        "plt.show()\n",
        "\n",
        "results.show()\n",
        "coef_df.show()"
      ]
    }
  ],
  "metadata": {
    "colab": {
      "provenance": []
    },
    "kernelspec": {
      "display_name": "Python 3",
      "name": "python3"
    },
    "language_info": {
      "codemirror_mode": {
        "name": "ipython",
        "version": 3
      },
      "file_extension": ".py",
      "mimetype": "text/x-python",
      "name": "python",
      "nbconvert_exporter": "python",
      "pygments_lexer": "ipython3",
      "version": "3.11.2"
    }
  },
  "nbformat": 4,
  "nbformat_minor": 0
}
